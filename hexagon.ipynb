{
 "cells": [
  {
   "cell_type": "code",
   "execution_count": 1,
   "metadata": {},
   "outputs": [],
   "source": [
    "arr = [\n",
    "    [1],\n",
    "    [1,1,1,1,1,1],\n",
    "    [2,3,2,3,2,3,2,3,2,3,2,3],\n",
    "    [2,2,3,2,2,3,2,2,3,2,2,3,2,2,3,2,2,3,2,2,3]\n",
    "    \n",
    "]"
   ]
  },
  {
   "cell_type": "code",
   "execution_count": 14,
   "metadata": {},
   "outputs": [],
   "source": [
    "def base_hexagon(rings):\n",
    "    if rings < 1:\n",
    "        raise ValueError(\"Gotta have at least one ring\")\n",
    "\n",
    "    hexagon = [\n",
    "        [1],\n",
    "    ]\n",
    "\n",
    "    for ring_num in range(1, rings+1):\n",
    "        ring = []\n",
    "        row_size = ring_num - 1\n",
    "        row = [2] * row_size\n",
    "        for _ in range(6):\n",
    "            ring += row\n",
    "            ring.append(3)\n",
    "        hexagon.append(ring)\n",
    "\n",
    "    return hexagon[:rings]\n"
   ]
  },
  {
   "cell_type": "code",
   "execution_count": 15,
   "metadata": {},
   "outputs": [
    {
     "data": {
      "text/plain": [
       "[[1],\n",
       " [3, 3, 3, 3, 3, 3],\n",
       " [2, 3, 2, 3, 2, 3, 2, 3, 2, 3, 2, 3],\n",
       " [2, 2, 3, 2, 2, 3, 2, 2, 3, 2, 2, 3, 2, 2, 3, 2, 2, 3]]"
      ]
     },
     "execution_count": 15,
     "metadata": {},
     "output_type": "execute_result"
    }
   ],
   "source": [
    "base_hexagon(4)"
   ]
  },
  {
   "cell_type": "code",
   "execution_count": null,
   "metadata": {},
   "outputs": [],
   "source": []
  }
 ],
 "metadata": {
  "interpreter": {
   "hash": "f9f85f796d01129d0dd105a088854619f454435301f6ffec2fea96ecbd9be4ac"
  },
  "kernelspec": {
   "display_name": "Python 3.9.5 64-bit",
   "language": "python",
   "name": "python3"
  },
  "language_info": {
   "codemirror_mode": {
    "name": "ipython",
    "version": 3
   },
   "file_extension": ".py",
   "mimetype": "text/x-python",
   "name": "python",
   "nbconvert_exporter": "python",
   "pygments_lexer": "ipython3",
   "version": "3.9.5"
  },
  "orig_nbformat": 4
 },
 "nbformat": 4,
 "nbformat_minor": 2
}
